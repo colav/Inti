{
 "cells": [
  {
   "cell_type": "code",
   "execution_count": 24,
   "metadata": {},
   "outputs": [],
   "source": [
    "from elasticsearch import Elasticsearch, helpers\n",
    "from pymongo import MongoClient\n",
    "import json\n",
    "import pprint"
   ]
  },
  {
   "cell_type": "code",
   "execution_count": 25,
   "metadata": {},
   "outputs": [],
   "source": [
    "es = Elasticsearch(HOST=\"http://localhost\", PORT=9200,timeout=60)\n",
    "client=MongoClient()\n",
    "db_gs=client[\"scholar_antioquia\"]\n",
    "gs_cites_col=db_gs[\"stage_cites\"]"
   ]
  },
  {
   "cell_type": "code",
   "execution_count": 26,
   "metadata": {},
   "outputs": [],
   "source": [
    "if es.indices.exists(index=\"test\"):\n",
    "    es.indices.delete(index=\"test\")"
   ]
  },
  {
   "cell_type": "code",
   "execution_count": 27,
   "metadata": {},
   "outputs": [],
   "source": [
    "if not es.indices.exists(index=\"test\"):\n",
    "    es.indices.create(index=\"test\")"
   ]
  },
  {
   "cell_type": "code",
   "execution_count": 14,
   "metadata": {},
   "outputs": [],
   "source": [
    "cites=list(gs_cites_col.find().limit(100))"
   ]
  },
  {
   "cell_type": "markdown",
   "metadata": {},
   "source": [
    "# Insertamos de a uno"
   ]
  },
  {
   "cell_type": "code",
   "execution_count": 28,
   "metadata": {},
   "outputs": [],
   "source": [
    "for i in cites:\n",
    "    title=i['cite']['title']\n",
    "    _id=str(i['_id'])\n",
    "    body={'title':title}\n",
    "    es.index(index=\"test\", doc_type=\"text\", id=_id,body=body )\n",
    "    "
   ]
  },
  {
   "cell_type": "code",
   "execution_count": 21,
   "metadata": {},
   "outputs": [
    {
     "data": {
      "text/plain": [
       "'trastornos de la coagulación en la unidad de cuidados intensivos pediátricos'"
      ]
     },
     "execution_count": 21,
     "metadata": {},
     "output_type": "execute_result"
    }
   ],
   "source": [
    "title=cites[5]['cite']['title'].lower()\n",
    "title"
   ]
  },
  {
   "cell_type": "code",
   "execution_count": 31,
   "metadata": {},
   "outputs": [
    {
     "name": "stdout",
     "output_type": "stream",
     "text": [
      "CPU times: user 2.92 ms, sys: 0 ns, total: 2.92 ms\n",
      "Wall time: 1.84 s\n"
     ]
    },
    {
     "data": {
      "text/plain": [
       "{'took': 1831,\n",
       " 'timed_out': False,\n",
       " '_shards': {'total': 1, 'successful': 1, 'skipped': 0, 'failed': 0},\n",
       " 'hits': {'total': {'value': 10000, 'relation': 'gte'},\n",
       "  'max_score': 35.615406,\n",
       "  'hits': [{'_index': 'mag',\n",
       "    '_type': '_doc',\n",
       "    '_id': '2799480043',\n",
       "    '_score': 35.615406,\n",
       "    '_source': {'PaperTitle': 'an algorithm for preclinical diagnosis of alzheimer s disease'}},\n",
       "   {'_index': 'mag',\n",
       "    '_type': '_doc',\n",
       "    '_id': '2472424722',\n",
       "    '_score': 26.207619,\n",
       "    '_source': {'PaperTitle': 'preclinical diagnosis of ischemic heart disease'}}]}}"
      ]
     },
     "execution_count": 31,
     "metadata": {},
     "output_type": "execute_result"
    }
   ],
   "source": [
    "%%time\n",
    "body = {\n",
    "    \"from\":0,\n",
    "    \"size\":2,\n",
    "    \"query\": {\n",
    "        \"match\": {\n",
    "            \"PaperTitle\":title\n",
    "        }\n",
    "    }\n",
    "}\n",
    "\n",
    "res = es.search(index=\"mag\", body=body)\n",
    "res"
   ]
  },
  {
   "cell_type": "markdown",
   "metadata": {},
   "source": [
    "# Insertamos en Bulk"
   ]
  },
  {
   "cell_type": "code",
   "execution_count": 23,
   "metadata": {},
   "outputs": [
    {
     "name": "stderr",
     "output_type": "stream",
     "text": [
      "/home/colav/.local/lib/python3.8/site-packages/elasticsearch/connection/base.py:200: ElasticsearchWarning: [types removal] Specifying types in bulk requests is deprecated.\n",
      "  warnings.warn(message, category=ElasticsearchWarning)\n"
     ]
    }
   ],
   "source": [
    "es_entries = []\n",
    "for i in cites:\n",
    "    title=i['cite']['title']\n",
    "    _id=str(i['_id'])    \n",
    "    entry = {\"_index\": \"test\",\n",
    "             \"_type\": \"text\", \n",
    "             \"_id\":_id,\n",
    "             \"_source\": {'title':title} }\n",
    "\n",
    "    es_entries.append(entry)    \n",
    "try:\n",
    "    helpers.bulk(es, es_entries, refresh=True, request_timeout=60) \n",
    "except Exception as e:\n",
    "    # This can happen if the server is restarted or the connection becomes unavilable\n",
    "    print(str(e))"
   ]
  },
  {
   "cell_type": "code",
   "execution_count": null,
   "metadata": {},
   "outputs": [],
   "source": []
  }
 ],
 "metadata": {
  "kernelspec": {
   "display_name": "Python 3",
   "language": "python",
   "name": "python3"
  },
  "language_info": {
   "codemirror_mode": {
    "name": "ipython",
    "version": 3
   },
   "file_extension": ".py",
   "mimetype": "text/x-python",
   "name": "python",
   "nbconvert_exporter": "python",
   "pygments_lexer": "ipython3",
   "version": "3.8.5"
  }
 },
 "nbformat": 4,
 "nbformat_minor": 4
}
