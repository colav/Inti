{
 "cells": [
  {
   "cell_type": "code",
   "execution_count": 39,
   "metadata": {},
   "outputs": [],
   "source": [
    "from collections import Counter \n",
    "import numpy as np\n",
    "import matplotlib.pyplot as plt"
   ]
  },
  {
   "cell_type": "code",
   "execution_count": 1,
   "metadata": {},
   "outputs": [],
   "source": [
    "f=open(\"/tmp/lang.txt\")"
   ]
  },
  {
   "cell_type": "code",
   "execution_count": 2,
   "metadata": {},
   "outputs": [],
   "source": [
    "data=f.readlines()"
   ]
  },
  {
   "cell_type": "code",
   "execution_count": 3,
   "metadata": {},
   "outputs": [],
   "source": [
    "f.close()"
   ]
  },
  {
   "cell_type": "code",
   "execution_count": 4,
   "metadata": {},
   "outputs": [],
   "source": [
    "data_set=set(data)"
   ]
  },
  {
   "cell_type": "code",
   "execution_count": null,
   "metadata": {},
   "outputs": [],
   "source": [
    "#hist_data=numpy.unique(data, return_index=False, return_counts=True)"
   ]
  },
  {
   "cell_type": "code",
   "execution_count": 9,
   "metadata": {},
   "outputs": [],
   "source": [
    "data_counter=Counter(data)\n",
    "data_counter_keys=data_counter.keys()\n",
    "data_counter_values=data_counter.values()"
   ]
  },
  {
   "cell_type": "code",
   "execution_count": 68,
   "metadata": {},
   "outputs": [],
   "source": [
    "data=[]"
   ]
  },
  {
   "cell_type": "code",
   "execution_count": 21,
   "metadata": {},
   "outputs": [],
   "source": [
    "keys=[] \n",
    "for i in list(data_counter_keys):\n",
    "    keys.append(i.replace('\\n',''))"
   ]
  },
  {
   "cell_type": "code",
   "execution_count": 46,
   "metadata": {},
   "outputs": [],
   "source": [
    "dataset_ns={}\n",
    "for i in range(len(list(data_counter_keys))):\n",
    "    dataset_ns[keys[i]]=list(data_counter_values)[i]"
   ]
  },
  {
   "cell_type": "code",
   "execution_count": 24,
   "metadata": {},
   "outputs": [
    {
     "name": "stdout",
     "output_type": "stream",
     "text": [
      "80\n"
     ]
    }
   ],
   "source": [
    "print(len(keys))"
   ]
  },
  {
   "cell_type": "code",
   "execution_count": 48,
   "metadata": {},
   "outputs": [],
   "source": [
    "th=500000\n",
    "dataset={}\n",
    "for i in sorted(dataset_ns, key=dataset_ns.get, reverse=True):\n",
    "    if dataset_ns[i] > th:\n",
    "        dataset[i]=dataset_ns[i] \n"
   ]
  },
  {
   "cell_type": "code",
   "execution_count": 49,
   "metadata": {},
   "outputs": [
    {
     "data": {
      "text/plain": [
       "{'en': 184209255,\n",
       " '': 140874650,\n",
       " 'ja': 15966739,\n",
       " 'es': 8361888,\n",
       " 'zh_chs': 6547426,\n",
       " 'fr': 4414939,\n",
       " 'ko': 3934766,\n",
       " 'de': 3360967,\n",
       " 'pt': 2687666,\n",
       " 'ru': 1872552,\n",
       " 'id': 1542784,\n",
       " 'pl': 1186614,\n",
       " 'it': 1185182,\n",
       " 'nl': 601105,\n",
       " 'fa': 527587}"
      ]
     },
     "execution_count": 49,
     "metadata": {},
     "output_type": "execute_result"
    }
   ],
   "source": [
    "dataset"
   ]
  },
  {
   "cell_type": "code",
   "execution_count": 44,
   "metadata": {},
   "outputs": [
    {
     "name": "stdout",
     "output_type": "stream",
     "text": [
      "en = 184209255\n",
      " = 140874650\n",
      "ja = 15966739\n",
      "es = 8361888\n",
      "zh_chs = 6547426\n",
      "fr = 4414939\n",
      "ko = 3934766\n",
      "de = 3360967\n",
      "pt = 2687666\n",
      "ru = 1872552\n",
      "id = 1542784\n",
      "pl = 1186614\n",
      "it = 1185182\n",
      "nl = 601105\n",
      "fa = 527587\n"
     ]
    }
   ],
   "source": [
    "for k in sorted(dataset, key=dataset.get, reverse=True):\n",
    "    print(k,\"=\", dataset[k])"
   ]
  },
  {
   "cell_type": "code",
   "execution_count": 50,
   "metadata": {},
   "outputs": [],
   "source": [
    "dkey=[]\n",
    "ddata=[]\n",
    "\n",
    "for i in dataset:\n",
    "    dkey.append(i)\n",
    "    ddata.append(dataset[i])"
   ]
  },
  {
   "cell_type": "code",
   "execution_count": 54,
   "metadata": {},
   "outputs": [
    {
     "data": {
      "image/png": "[encoded data removed]",
      "text/plain": [
       "<Figure size 1440x720 with 1 Axes>"
      ]
     },
     "metadata": {
      "needs_background": "light"
     },
     "output_type": "display_data"
    }
   ],
   "source": [
    "\n",
    "fig = plt.figure(figsize=(20,10))\n",
    "ax = fig.add_axes([0,0,1,1])\n",
    "ax.bar(dkey,ddata)\n",
    "plt.rcParams.update({'font.size': 24})\n",
    "plt.show()"
   ]
  },
  {
   "cell_type": "code",
   "execution_count": 59,
   "metadata": {},
   "outputs": [],
   "source": [
    "import pycld2 as cld2\n",
    "from pymongo import MongoClient"
   ]
  },
  {
   "cell_type": "code",
   "execution_count": 60,
   "metadata": {},
   "outputs": [],
   "source": [
    "client=MongoClient()\n",
    "db_gs=client[\"scholar_antioquia\"]\n",
    "gs_cites_col=db_gs[\"stage_cites\"]"
   ]
  },
  {
   "cell_type": "code",
   "execution_count": 61,
   "metadata": {},
   "outputs": [],
   "source": [
    "cites=list(gs_cites_col.find().limit(10))"
   ]
  },
  {
   "cell_type": "code",
   "execution_count": 67,
   "metadata": {},
   "outputs": [
    {
     "name": "stdout",
     "output_type": "stream",
     "text": [
      "Human soluble recombinant thrombomodulin, ART-123, resolved early phase coagulopathies, but did not significantly alter the 28 day outcome in the treatment of DIC associated with infectious systemic inflammatory response syndromes\n",
      "(('ENGLISH', 'en', 99, 935.0), ('Unknown', 'un', 0, 0.0), ('Unknown', 'un', 0, 0.0))\n",
      "__________\n",
      "XPRESS Study: Heparin In� Not Out\n",
      "(('ENGLISH', 'en', 96, 928.0), ('Unknown', 'un', 0, 0.0), ('Unknown', 'un', 0, 0.0))\n",
      "__________\n",
      "Coagulopathies in the PICU: DIC and liver disease\n",
      "(('ENGLISH', 'en', 98, 856.0), ('Unknown', 'un', 0, 0.0), ('Unknown', 'un', 0, 0.0))\n",
      "__________\n",
      "Comparison of the effects of subcutaneous versus continuous infusion of heparin on key inflammatory parameters following sepsis\n",
      "(('ENGLISH', 'en', 99, 880.0), ('Unknown', 'un', 0, 0.0), ('Unknown', 'un', 0, 0.0))\n",
      "__________\n",
      "Héparines: structure, propriétés pharmacologiques et activités\n",
      "(('FRENCH', 'fr', 98, 929.0), ('Unknown', 'un', 0, 0.0), ('Unknown', 'un', 0, 0.0))\n",
      "__________\n",
      "Trastornos de la coagulación en la Unidad de Cuidados Intensivos Pediátricos\n",
      "(('SPANISH', 'es', 98, 401.0), ('Unknown', 'un', 0, 0.0), ('Unknown', 'un', 0, 0.0))\n",
      "__________\n",
      "The role of heparin and allied compounds in the treatment of sepsis\n",
      "(('ENGLISH', 'en', 98, 1505.0), ('Unknown', 'un', 0, 0.0), ('Unknown', 'un', 0, 0.0))\n",
      "__________\n",
      "Polystomes of the world (Polystomatidae: Monogenea): an appraisal of intestinal morphology and species diversity\n",
      "(('ENGLISH', 'en', 99, 836.0), ('Unknown', 'un', 0, 0.0), ('Unknown', 'un', 0, 0.0))\n",
      "__________\n",
      "2015 Alzheimer's disease facts and figures\n",
      "(('ENGLISH', 'en', 97, 862.0), ('Unknown', 'un', 0, 0.0), ('Unknown', 'un', 0, 0.0))\n",
      "__________\n",
      "A latent class approach for sepsis diagnosis supports use of procalcitonin in the emergency room for diagnosis of severe sepsis\n",
      "(('ENGLISH', 'en', 99, 952.0), ('Unknown', 'un', 0, 0.0), ('Unknown', 'un', 0, 0.0))\n",
      "__________\n"
     ]
    }
   ],
   "source": [
    "for i in cites:\n",
    "    title=i['cite']['title']\n",
    "    isReliable, textBytesFound, details = cld2.detect(title)\n",
    "    print(title)\n",
    "    print(details)\n",
    "    print(\"_\"*10)"
   ]
  },
  {
   "cell_type": "code",
   "execution_count": null,
   "metadata": {},
   "outputs": [],
   "source": []
  }
 ],
 "metadata": {
  "kernelspec": {
   "display_name": "Python 3",
   "language": "python",
   "name": "python3"
  },
  "language_info": {
   "codemirror_mode": {
    "name": "ipython",
    "version": 3
   },
   "file_extension": ".py",
   "mimetype": "text/x-python",
   "name": "python",
   "nbconvert_exporter": "python",
   "pygments_lexer": "ipython3",
   "version": "3.8.5"
  }
 },
 "nbformat": 4,
 "nbformat_minor": 4
}
