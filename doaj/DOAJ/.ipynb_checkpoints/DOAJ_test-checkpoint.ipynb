{
 "cells": [
  {
   "cell_type": "code",
   "execution_count": 1,
   "metadata": {},
   "outputs": [
    {
     "ename": "ModuleNotFoundError",
     "evalue": "No module named 'DOAJRequest'",
     "output_type": "error",
     "traceback": [
      "\u001b[0;31m---------------------------------------------------------------------------\u001b[0m",
      "\u001b[0;31mModuleNotFoundError\u001b[0m                       Traceback (most recent call last)",
      "\u001b[0;32m<ipython-input-1-56bca899c63c>\u001b[0m in \u001b[0;36m<module>\u001b[0;34m()\u001b[0m\n\u001b[1;32m      3\u001b[0m \u001b[0;32mimport\u001b[0m \u001b[0mrequests\u001b[0m\u001b[0;34m\u001b[0m\u001b[0;34m\u001b[0m\u001b[0m\n\u001b[1;32m      4\u001b[0m \u001b[0;32mimport\u001b[0m \u001b[0mjson\u001b[0m\u001b[0;34m\u001b[0m\u001b[0;34m\u001b[0m\u001b[0m\n\u001b[0;32m----> 5\u001b[0;31m \u001b[0;32mfrom\u001b[0m \u001b[0mDOAJRequest\u001b[0m \u001b[0;32mimport\u001b[0m \u001b[0;34m*\u001b[0m\u001b[0;34m\u001b[0m\u001b[0;34m\u001b[0m\u001b[0m\n\u001b[0m\u001b[1;32m      6\u001b[0m \u001b[0;32mimport\u001b[0m \u001b[0mpprint\u001b[0m\u001b[0;34m\u001b[0m\u001b[0;34m\u001b[0m\u001b[0m\n\u001b[1;32m      7\u001b[0m \u001b[0;32mfrom\u001b[0m \u001b[0mforex_python\u001b[0m\u001b[0;34m.\u001b[0m\u001b[0mconverter\u001b[0m \u001b[0;32mimport\u001b[0m \u001b[0mCurrencyRates\u001b[0m\u001b[0;34m\u001b[0m\u001b[0;34m\u001b[0m\u001b[0m\n",
      "\u001b[0;31mModuleNotFoundError\u001b[0m: No module named 'DOAJRequest'"
     ]
    }
   ],
   "source": [
    "from urllib.parse import urlparse\n",
    "import urllib\n",
    "import requests\n",
    "import json\n",
    "from DOAJRequest import *\n",
    "import pprint\n",
    "from forex_python.converter import CurrencyRates\n",
    "import numpy as np"
   ]
  },
  {
   "cell_type": "markdown",
   "metadata": {},
   "source": [
    "Creating an instance called ISSN based in a builded class with a method to get ISSN's (print and electronic) lists. "
   ]
  },
  {
   "cell_type": "code",
   "execution_count": 3,
   "metadata": {},
   "outputs": [],
   "source": [
    "db_name = \"doaj_test\"\n",
    "collection = \"lens\"\n",
    "db=ISSN(db_name, collection)\n",
    "pissn_list, eissn_list = db.getIssnLists(collection)\n",
    "\n"
   ]
  },
  {
   "cell_type": "markdown",
   "metadata": {},
   "source": [
    "To understand the url structure, parse and decode from ascii encode to utf8 using `urllib.parse.unquote`"
   ]
  },
  {
   "cell_type": "code",
   "execution_count": null,
   "metadata": {
    "scrolled": true
   },
   "outputs": [],
   "source": [
    "url = 'https://doaj.org/search?ref=homepage-box&source=%7B%22query%22%3A%7B%22filtered%22%3A%7B%22filter%22%3A%7B%22bool%22%3A%7B%22must%22%3A%5B%7B%22term%22%3A%7B%22_type%22%3A%22journal%22%7D%7D%5D%7D%7D%2C%22query%22%3A%7B%22query_string%22%3A%7B%22query%22%3A%222041%5C%5C-1723%22%2C%22default_operator%22%3A%22AND%22%2C%22default_field%22%3A%22index.issn.exact%22%7D%7D%7D%7D%7D' \n",
    "url_parsed=urlparse(url)\n",
    "query=url_parsed.query\n",
    "urllib.parse.unquote(url)"
   ]
  },
  {
   "cell_type": "markdown",
   "metadata": {},
   "source": [
    "### Getting APC value using DOAJ API."
   ]
  },
  {
   "cell_type": "code",
   "execution_count": 17,
   "metadata": {},
   "outputs": [
    {
     "name": "stdout",
     "output_type": "stream",
     "text": [
      "<class 'dict'> GBP\n",
      "True\n"
     ]
    }
   ],
   "source": [
    "# url_query = 'https://doaj.org/api/v1/search/journals/1414-431X'\n",
    "url_query = 'https://doaj.org/api/v1/search/journals/1475-2875'\n",
    "\n",
    "# Testing for a particukar issn in pissn_list:\n",
    "response = requests.get(url_query)  \n",
    "files = response.json()\n",
    "apc = files['results'][0]['bibjson']['apc']\n",
    "print(type(apc), apc['currency'])\n",
    "if files['results'][0]['bibjson']['apc']['currency'] != 'USD': \n",
    "    print(True)"
   ]
  },
  {
   "cell_type": "code",
   "execution_count": 6,
   "metadata": {},
   "outputs": [],
   "source": [
    "\n",
    "\n",
    "apc_dict = {}\n",
    "data_list = []\n",
    "\n",
    "for issn in pissn_list[:200]:\n",
    "    issn_formated = issn[:4]+'-'+ issn[4:]\n",
    "    url_request = 'https://doaj.org/api/v1/search/journals/{0}'.format(issn_formated)\n",
    "    response = requests.get(url_request)\n",
    "    data = response.json()\n",
    "    if len(data['results']) > 0:\n",
    "        if not 'apc' in data['results'][0]['bibjson']:\n",
    "            continue\n",
    "        if 'apc' in data['results'][0]['bibjson']:\n",
    "            apc = data['results'][0]['bibjson']['apc']\n",
    "            apc_dict[issn_formated] = apc\n",
    "            \n",
    "            data_list.append(data)"
   ]
  },
  {
   "cell_type": "markdown",
   "metadata": {},
   "source": [
    "Currency convertion"
   ]
  },
  {
   "cell_type": "code",
   "execution_count": 31,
   "metadata": {},
   "outputs": [],
   "source": [
    "c = CurrencyRates()\n",
    "apc_dict2=apc_dict\n",
    "for issn in apc_dict2.keys():\n",
    "    if apc_dict[issn]['currency'] != 'USD':\n",
    "        currency_foreign = apc_dict2[issn]['currency']\n",
    "        avr_price_foreign = apc_dict2[issn]['average_price'] \n",
    "        usd_currency = c.convert(currency_foreign,'USD',avr_price_curr)\n",
    "        \n",
    "#       Update dictionaty with APC in USD currency.\n",
    "        usd_curr=int(np.floor(usd_currency))\n",
    "        apc_dict2[issn] = {'currency':'USD','average_price':usd_curr}\n",
    "        apc_dict_updated=apc_dict2\n",
    "        "
   ]
  },
  {
   "cell_type": "code",
   "execution_count": 5,
   "metadata": {},
   "outputs": [
    {
     "data": {
      "text/plain": [
       "list"
      ]
     },
     "execution_count": 5,
     "metadata": {},
     "output_type": "execute_result"
    }
   ],
   "source": [
    "# data_list\n",
    "type(pissn_list)"
   ]
  },
  {
   "cell_type": "code",
   "execution_count": null,
   "metadata": {},
   "outputs": [],
   "source": [
    "dict2=db.getAPC(pissn_list[:500])"
   ]
  },
  {
   "cell_type": "code",
   "execution_count": 13,
   "metadata": {},
   "outputs": [
    {
     "data": {
      "text/plain": [
       "{'1594-4077': {'currency': 'USD', 'average_price': 900},\n",
       " '0032-5791': {'currency': 'USD', 'average_price': 2000},\n",
       " '0036-4665': {'currency': 'USD', 'average_price': 400},\n",
       " '1475-2875': {'currency': 'GBP', 'average_price': 1430},\n",
       " '0213-9111': {'currency': 'EUR', 'average_price': 450}}"
      ]
     },
     "execution_count": 13,
     "metadata": {},
     "output_type": "execute_result"
    }
   ],
   "source": [
    "dict2"
   ]
  },
  {
   "cell_type": "code",
   "execution_count": 14,
   "metadata": {},
   "outputs": [],
   "source": [
    "dict3= db.convert_apc2usd(dict2)"
   ]
  },
  {
   "cell_type": "code",
   "execution_count": 15,
   "metadata": {},
   "outputs": [
    {
     "data": {
      "text/plain": [
       "{'1594-4077': {'currency': 'USD', 'average_price': 900},\n",
       " '0032-5791': {'currency': 'USD', 'average_price': 2000},\n",
       " '0036-4665': {'currency': 'USD', 'average_price': 400},\n",
       " '1475-2875': {'currency': 'USD', 'average_price': 1790},\n",
       " '0213-9111': {'currency': 'USD', 'average_price': 508}}"
      ]
     },
     "execution_count": 15,
     "metadata": {},
     "output_type": "execute_result"
    }
   ],
   "source": [
    "dict3"
   ]
  },
  {
   "cell_type": "code",
   "execution_count": 11,
   "metadata": {},
   "outputs": [
    {
     "data": {
      "text/plain": [
       "{'1594-4077': {'currency': 'USD', 'average_price': 900},\n",
       " '0032-5791': {'currency': 'USD', 'average_price': 2000},\n",
       " '0036-4665': {'currency': 'USD', 'average_price': 400},\n",
       " '1475-2875': {'currency': 'GBP', 'average_price': 1430},\n",
       " '0213-9111': {'currency': 'EUR', 'average_price': 450}}"
      ]
     },
     "execution_count": 11,
     "metadata": {},
     "output_type": "execute_result"
    }
   ],
   "source": []
  }
 ],
 "metadata": {
  "kernelspec": {
   "display_name": "Python 3",
   "language": "python",
   "name": "python3"
  },
  "language_info": {
   "codemirror_mode": {
    "name": "ipython",
    "version": 3
   },
   "file_extension": ".py",
   "mimetype": "text/x-python",
   "name": "python",
   "nbconvert_exporter": "python",
   "pygments_lexer": "ipython3",
   "version": "3.7.5"
  }
 },
 "nbformat": 4,
 "nbformat_minor": 4
}
